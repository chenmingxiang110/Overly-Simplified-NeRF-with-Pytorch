{
 "cells": [
  {
   "cell_type": "code",
   "execution_count": 1,
   "id": "d57553d2",
   "metadata": {},
   "outputs": [],
   "source": [
    "import os\n",
    "import cv2\n",
    "import json\n",
    "import time\n",
    "import mcubes\n",
    "import imageio\n",
    "import numpy as np\n",
    "import matplotlib.pyplot as plt\n",
    "\n",
    "import torch\n",
    "import torch.nn as nn\n",
    "import torch.optim as optim\n",
    "import torch.nn.functional as F\n",
    "from torch.utils.data import DataLoader\n",
    "\n",
    "from tqdm import tqdm, trange\n",
    "\n",
    "from lib.utils import isfloat, seed_everything, get_lr\n",
    "from lib.nerf.model import MyNerfModel\n",
    "from lib.nerf.utils import get_rays, render_rays, pose_spherical, compute_accumulated_transmittance\n",
    "\n",
    "seed_everything(seed=42)"
   ]
  },
  {
   "cell_type": "code",
   "execution_count": 2,
   "id": "6094ec05",
   "metadata": {},
   "outputs": [],
   "source": [
    "size = 100\n",
    "H, W = size, size\n",
    "hn = 2\n",
    "hf = 6\n",
    "nb_bins = 192\n",
    "batch_size = 512\n",
    "model_path = \"./models/my_nerf.pth\"\n",
    "device = torch.device(\"cpu\")\n",
    "\n",
    "my_model = MyNerfModel(hidden_dim=256).to(device)\n",
    "my_model.load_state_dict(torch.load(model_path, map_location=str(device)))\n",
    "my_model = my_model.eval()"
   ]
  },
  {
   "cell_type": "code",
   "execution_count": 3,
   "id": "eb337e24",
   "metadata": {},
   "outputs": [
    {
     "name": "stderr",
     "output_type": "stream",
     "text": [
      "100%|████████████████████████████████████████████████████| 30/30 [07:06<00:00, 14.22s/it]\n"
     ]
    },
    {
     "name": "stdout",
     "output_type": "stream",
     "text": [
      "Finished.\n"
     ]
    }
   ],
   "source": [
    "render_poses = []\n",
    "n_frames = 30\n",
    "for i in range(n_frames):\n",
    "    focal = size * 1.5 + size * 0.5 * np.sin(i * np.pi * 2 / n_frames)\n",
    "    angle_x = - 180 + i * 360 / n_frames\n",
    "    angle_y = - 45 + 20 * np.sin(i * np.pi * 4 / n_frames)\n",
    "    render_poses.append((focal, pose_spherical(angle_x, angle_y, 4.0)))\n",
    "\n",
    "reconstructed = []\n",
    "with torch.no_grad():\n",
    "    for focal, t_mat in tqdm(render_poses):\n",
    "        rays_o, rays_d = get_rays(H, W, focal, t_mat[:3, :4])\n",
    "        rays_o, rays_d = rays_o.reshape([-1, 3]), rays_d.reshape([-1, 3])\n",
    "        rec = []\n",
    "        dataset = np.concatenate([rays_o, rays_d], axis=1).astype(np.float32)\n",
    "        dataloader = DataLoader(dataset, batch_size=batch_size, shuffle=False)\n",
    "        for xs in dataloader:\n",
    "            ray_origins = xs[:,:3].to(device)\n",
    "            ray_directions = xs[:,3:6].to(device)\n",
    "            regenerated_pixels = render_rays(\n",
    "                my_model, ray_origins, ray_directions, hn=hn, hf=hf, nb_bins=nb_bins\n",
    "            )\n",
    "            rec.append(regenerated_pixels.detach().cpu().numpy())\n",
    "        rec = np.concatenate(rec, axis=0)[..., ::-1] # BGR to RGB\n",
    "        rec = np.clip(rec.reshape([H, W, 3]) * 255, 0, 255).astype(np.uint8)\n",
    "        reconstructed.append(rec)\n",
    "\n",
    "imageio.mimsave(\"./outputs/video.gif\", reconstructed, fps = 8)\n",
    "print(\"Finished.\")"
   ]
  },
  {
   "cell_type": "code",
   "execution_count": 4,
   "id": "0aa16b9c",
   "metadata": {},
   "outputs": [
    {
     "name": "stderr",
     "output_type": "stream",
     "text": [
      "100%|████████████████████████████████████████████████| 4096/4096 [01:18<00:00, 52.47it/s]\n"
     ]
    },
    {
     "name": "stdout",
     "output_type": "stream",
     "text": [
      "Finished.\n"
     ]
    }
   ],
   "source": [
    "sigma_threshold = 30.0\n",
    "N = 128\n",
    "x, y, z = [np.linspace(-1., 1., N) for _ in range(3)]\n",
    "rgbd = []\n",
    "rays_o = np.stack(np.meshgrid(x, y, z), -1).reshape([-1, 3])\n",
    "rays_d = np.zeros(rays_o.shape)\n",
    "dataset = np.concatenate([rays_o, rays_d], axis=1).astype(np.float32)\n",
    "dataloader = DataLoader(dataset, batch_size=batch_size, shuffle=False)\n",
    "with torch.no_grad():\n",
    "    for xs in tqdm(dataloader):\n",
    "        ray_origins = xs[:,:3].to(device)\n",
    "        ray_directions = xs[:,3:6].to(device)\n",
    "        colors, sigma = my_model(ray_origins, ray_directions)\n",
    "        rgbd.append(torch.cat([colors, sigma.reshape([-1,1])], dim=-1))\n",
    "rgbd = torch.cat(rgbd, 0)\n",
    "sigma = np.maximum(rgbd[:,-1].detach().cpu().numpy(), 0).reshape([N,N,N])\n",
    "\n",
    "vertices, triangles = mcubes.marching_cubes(sigma, sigma_threshold)\n",
    "mcubes.export_obj(vertices, triangles, \"./outputs/mesh.obj\")\n",
    "print(\"Finished.\")"
   ]
  },
  {
   "cell_type": "code",
   "execution_count": null,
   "id": "84d077bb",
   "metadata": {},
   "outputs": [],
   "source": []
  }
 ],
 "metadata": {
  "kernelspec": {
   "display_name": "Python 3 (ipykernel)",
   "language": "python",
   "name": "python3"
  },
  "language_info": {
   "codemirror_mode": {
    "name": "ipython",
    "version": 3
   },
   "file_extension": ".py",
   "mimetype": "text/x-python",
   "name": "python",
   "nbconvert_exporter": "python",
   "pygments_lexer": "ipython3",
   "version": "3.9.16"
  }
 },
 "nbformat": 4,
 "nbformat_minor": 5
}
